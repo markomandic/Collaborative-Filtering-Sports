{
 "cells": [
  {
   "cell_type": "code",
   "execution_count": 315,
   "metadata": {},
   "outputs": [
    {
     "name": "stderr",
     "output_type": "stream",
     "text": [
      "Using TensorFlow backend.\n"
     ]
    }
   ],
   "source": [
    "import pandas as pd\n",
    "import numpy as np\n",
    "import os\n",
    "from sklearn.model_selection import train_test_split\n",
    "import keras.layers as layers\n",
    "from keras.models import Model, load_model\n",
    "from keras.engine import Layer"
   ]
  },
  {
   "cell_type": "code",
   "execution_count": 265,
   "metadata": {},
   "outputs": [],
   "source": [
    "obp = ['single', 'double', 'home_run',\n",
    "       'hit_by_pitch', 'field_error','walk', 'triple',\n",
    "       'fielders_choice', 'intent_walk', 'run', 'catcher_interf']"
   ]
  },
  {
   "cell_type": "code",
   "execution_count": 266,
   "metadata": {},
   "outputs": [],
   "source": [
    "df = pd.read_csv('pitcher_data/545333_data.csv')\n",
    "df = df.drop(columns=df.columns[:5].append(df.columns[9:])).dropna()\n",
    "df = df[~df['events'].str.contains('caught|pickoff|defensive')==True]\n",
    "df['obp'] = df.events.isin(obp).astype(int)\n",
    "full_df = df "
   ]
  },
  {
   "cell_type": "code",
   "execution_count": 267,
   "metadata": {},
   "outputs": [],
   "source": [
    "for filename in os.listdir('pitcher_data/'):\n",
    "    if filename.endswith('.csv') and filename != '545333_data.csv':\n",
    "        df = pd.read_csv('pitcher_data/'+filename)\n",
    "        df = df.drop(columns=df.columns[:5].append(df.columns[9:])).dropna()\n",
    "        df = df[~df['events'].str.contains('caught|pickoff|defensive')==True]\n",
    "        df['obp'] = df.events.isin(obp).astype(int)\n",
    "        full_df = full_df.append(df)"
   ]
  },
  {
   "cell_type": "code",
   "execution_count": 348,
   "metadata": {},
   "outputs": [],
   "source": [
    "pitchers = pd.read_csv('2019_pitchers.csv')\n",
    "batters = pd.read_csv('2019_batters.csv')"
   ]
  },
  {
   "cell_type": "code",
   "execution_count": 329,
   "metadata": {},
   "outputs": [],
   "source": [
    "df = full_df.groupby(['batter', 'pitcher']).filter(lambda x : len(x)>10)\n",
    "new_df = df.groupby(['batter', 'pitcher'], as_index=False).mean()\n",
    "final_df = new_df[new_df.batter.isin(batters.player_id)]\n",
    "final_df = final_df.reset_index(drop=True)"
   ]
  },
  {
   "cell_type": "code",
   "execution_count": 330,
   "metadata": {},
   "outputs": [],
   "source": [
    "final_df['pitcher_factorized'] = pd.factorize(final_df['pitcher'])[0]\n",
    "final_df['batter_factorized'] = pd.factorize(final_df['batter'])[0]\n",
    "num_batters = len(pd.unique(final_df.batter))\n",
    "num_pitchers = len(pd.unique(final_df.pitcher))"
   ]
  },
  {
   "cell_type": "markdown",
   "metadata": {},
   "source": [
    "# Model"
   ]
  },
  {
   "cell_type": "code",
   "execution_count": 340,
   "metadata": {},
   "outputs": [],
   "source": [
    "def build_model(): \n",
    "    input_pitcher = layers.Input(shape=(1,))\n",
    "    pitcher_embedding = layers.Embedding(num_pitchers, 5)(input_pitcher)\n",
    "    input_batter = layers.Input(shape=(1,))\n",
    "    batter_embedding = layers.Embedding(num_batters, 5)(input_batter)\n",
    "    pitcher_flat = layers.Flatten()(pitcher_embedding)\n",
    "    batter_flat = layers.Flatten()(batter_embedding)\n",
    "    cl_concat = layers.Concatenate()([pitcher_flat, batter_flat])\n",
    "    cl_dense = layers.Dense(200, activation='relu')(cl_concat)\n",
    "    cl_dense1 = layers.Dense(100, activation='relu')(cl_dense)\n",
    "    cl_dense2 = layers.Dense(50, activation='relu')(cl_dense1)\n",
    "    cl_dense3 = layers.Dense(20, activation='relu')(cl_dense2)\n",
    "    pred = layers.Dense(1, activation=\"linear\")(cl_dense3)\n",
    "    model = Model([input_pitcher, input_batter], pred)\n",
    "    model.compile(loss='mean_squared_error', optimizer='adam', metrics=['accuracy'])\n",
    "    model.summary()\n",
    "    return model"
   ]
  },
  {
   "cell_type": "code",
   "execution_count": 341,
   "metadata": {},
   "outputs": [],
   "source": [
    "train_pitcher, test_pitcher, train_batter, test_batter, train_labels, test_labels = train_test_split(final_df['pitcher_factorized'], final_df['batter_factorized'], final_df['obp'], test_size=0.1)"
   ]
  },
  {
   "cell_type": "code",
   "execution_count": 342,
   "metadata": {},
   "outputs": [
    {
     "name": "stdout",
     "output_type": "stream",
     "text": [
      "__________________________________________________________________________________________________\n",
      "Layer (type)                    Output Shape         Param #     Connected to                     \n",
      "==================================================================================================\n",
      "input_5 (InputLayer)            (None, 1)            0                                            \n",
      "__________________________________________________________________________________________________\n",
      "input_6 (InputLayer)            (None, 1)            0                                            \n",
      "__________________________________________________________________________________________________\n",
      "embedding_5 (Embedding)         (None, 1, 5)         2065        input_5[0][0]                    \n",
      "__________________________________________________________________________________________________\n",
      "embedding_6 (Embedding)         (None, 1, 5)         2225        input_6[0][0]                    \n",
      "__________________________________________________________________________________________________\n",
      "flatten_5 (Flatten)             (None, 5)            0           embedding_5[0][0]                \n",
      "__________________________________________________________________________________________________\n",
      "flatten_6 (Flatten)             (None, 5)            0           embedding_6[0][0]                \n",
      "__________________________________________________________________________________________________\n",
      "concatenate_3 (Concatenate)     (None, 10)           0           flatten_5[0][0]                  \n",
      "                                                                 flatten_6[0][0]                  \n",
      "__________________________________________________________________________________________________\n",
      "dense_11 (Dense)                (None, 200)          2200        concatenate_3[0][0]              \n",
      "__________________________________________________________________________________________________\n",
      "dense_12 (Dense)                (None, 100)          20100       dense_11[0][0]                   \n",
      "__________________________________________________________________________________________________\n",
      "dense_13 (Dense)                (None, 50)           5050        dense_12[0][0]                   \n",
      "__________________________________________________________________________________________________\n",
      "dense_14 (Dense)                (None, 20)           1020        dense_13[0][0]                   \n",
      "__________________________________________________________________________________________________\n",
      "dense_15 (Dense)                (None, 1)            21          dense_14[0][0]                   \n",
      "==================================================================================================\n",
      "Total params: 32,681\n",
      "Trainable params: 32,681\n",
      "Non-trainable params: 0\n",
      "__________________________________________________________________________________________________\n",
      "Train on 13450 samples, validate on 1495 samples\n",
      "Epoch 1/100\n",
      "13450/13450 [==============================] - 1s 81us/step - loss: 0.0179 - acc: 0.0054 - val_loss: 0.0153 - val_acc: 0.0027\n",
      "Epoch 2/100\n",
      "13450/13450 [==============================] - 1s 39us/step - loss: 0.0151 - acc: 0.0054 - val_loss: 0.0169 - val_acc: 0.0027\n",
      "Epoch 3/100\n",
      "13450/13450 [==============================] - 1s 41us/step - loss: 0.0146 - acc: 0.0054 - val_loss: 0.0155 - val_acc: 0.0027\n",
      "Epoch 4/100\n",
      "13450/13450 [==============================] - 1s 38us/step - loss: 0.0143 - acc: 0.0054 - val_loss: 0.0177 - val_acc: 0.0027\n",
      "Epoch 5/100\n",
      "13450/13450 [==============================] - 1s 40us/step - loss: 0.0138 - acc: 0.0054 - val_loss: 0.0161 - val_acc: 0.0027\n",
      "Epoch 6/100\n",
      "13450/13450 [==============================] - 1s 38us/step - loss: 0.0133 - acc: 0.0054 - val_loss: 0.0165 - val_acc: 0.0027\n",
      "Epoch 7/100\n",
      "13450/13450 [==============================] - 1s 41us/step - loss: 0.0130 - acc: 0.0054 - val_loss: 0.0169 - val_acc: 0.0027\n",
      "Epoch 8/100\n",
      "13450/13450 [==============================] - 1s 41us/step - loss: 0.0126 - acc: 0.0054 - val_loss: 0.0175 - val_acc: 0.0027\n",
      "Epoch 9/100\n",
      "13450/13450 [==============================] - 1s 38us/step - loss: 0.0122 - acc: 0.0054 - val_loss: 0.0174 - val_acc: 0.0027\n",
      "Epoch 10/100\n",
      "13450/13450 [==============================] - 1s 38us/step - loss: 0.0119 - acc: 0.0054 - val_loss: 0.0177 - val_acc: 0.0027\n",
      "Epoch 11/100\n",
      "13450/13450 [==============================] - 1s 38us/step - loss: 0.0118 - acc: 0.0054 - val_loss: 0.0181 - val_acc: 0.0027\n",
      "Epoch 12/100\n",
      "13450/13450 [==============================] - 1s 41us/step - loss: 0.0115 - acc: 0.0054 - val_loss: 0.0181 - val_acc: 0.0027\n",
      "Epoch 13/100\n",
      "13450/13450 [==============================] - 1s 39us/step - loss: 0.0113 - acc: 0.0054 - val_loss: 0.0185 - val_acc: 0.0027\n",
      "Epoch 14/100\n",
      "13450/13450 [==============================] - 1s 40us/step - loss: 0.0111 - acc: 0.0054 - val_loss: 0.0185 - val_acc: 0.0027\n",
      "Epoch 15/100\n",
      "13450/13450 [==============================] - 1s 39us/step - loss: 0.0110 - acc: 0.0054 - val_loss: 0.0188 - val_acc: 0.0027\n",
      "Epoch 16/100\n",
      "13450/13450 [==============================] - 1s 39us/step - loss: 0.0108 - acc: 0.0054 - val_loss: 0.0191 - val_acc: 0.0027\n",
      "Epoch 17/100\n",
      "13450/13450 [==============================] - 1s 38us/step - loss: 0.0107 - acc: 0.0054 - val_loss: 0.0191 - val_acc: 0.0027\n",
      "Epoch 18/100\n",
      "13450/13450 [==============================] - 1s 43us/step - loss: 0.0106 - acc: 0.0054 - val_loss: 0.0194 - val_acc: 0.0027\n",
      "Epoch 19/100\n",
      "13450/13450 [==============================] - 1s 41us/step - loss: 0.0104 - acc: 0.0054 - val_loss: 0.0190 - val_acc: 0.0027\n",
      "Epoch 20/100\n",
      "13450/13450 [==============================] - 1s 40us/step - loss: 0.0104 - acc: 0.0054 - val_loss: 0.0190 - val_acc: 0.0027\n",
      "Epoch 21/100\n",
      "13450/13450 [==============================] - 1s 40us/step - loss: 0.0103 - acc: 0.0054 - val_loss: 0.0187 - val_acc: 0.0027\n",
      "Epoch 22/100\n",
      "13450/13450 [==============================] - 1s 40us/step - loss: 0.0101 - acc: 0.0054 - val_loss: 0.0193 - val_acc: 0.0027\n",
      "Epoch 23/100\n",
      "13450/13450 [==============================] - 1s 38us/step - loss: 0.0100 - acc: 0.0054 - val_loss: 0.0204 - val_acc: 0.0027\n",
      "Epoch 24/100\n",
      "13450/13450 [==============================] - 1s 38us/step - loss: 0.0099 - acc: 0.0054 - val_loss: 0.0194 - val_acc: 0.0027\n",
      "Epoch 25/100\n",
      "13450/13450 [==============================] - 1s 38us/step - loss: 0.0097 - acc: 0.0054 - val_loss: 0.0198 - val_acc: 0.0027\n",
      "Epoch 26/100\n",
      "13450/13450 [==============================] - 1s 39us/step - loss: 0.0096 - acc: 0.0054 - val_loss: 0.0197 - val_acc: 0.0027\n",
      "Epoch 27/100\n",
      "13450/13450 [==============================] - 1s 39us/step - loss: 0.0096 - acc: 0.0054 - val_loss: 0.0198 - val_acc: 0.0027\n",
      "Epoch 28/100\n",
      "13450/13450 [==============================] - 1s 44us/step - loss: 0.0094 - acc: 0.0054 - val_loss: 0.0198 - val_acc: 0.0027\n",
      "Epoch 29/100\n",
      "13450/13450 [==============================] - 1s 42us/step - loss: 0.0092 - acc: 0.0054 - val_loss: 0.0202 - val_acc: 0.0020\n",
      "Epoch 30/100\n",
      "13450/13450 [==============================] - 1s 47us/step - loss: 0.0091 - acc: 0.0054 - val_loss: 0.0209 - val_acc: 0.0020\n",
      "Epoch 31/100\n",
      "13450/13450 [==============================] - 1s 43us/step - loss: 0.0090 - acc: 0.0054 - val_loss: 0.0207 - val_acc: 0.0020\n",
      "Epoch 32/100\n",
      "13450/13450 [==============================] - 1s 41us/step - loss: 0.0089 - acc: 0.0054 - val_loss: 0.0204 - val_acc: 0.0020\n",
      "Epoch 33/100\n",
      "13450/13450 [==============================] - 1s 41us/step - loss: 0.0088 - acc: 0.0054 - val_loss: 0.0213 - val_acc: 0.0013\n",
      "Epoch 34/100\n",
      "13450/13450 [==============================] - 1s 41us/step - loss: 0.0086 - acc: 0.0054 - val_loss: 0.0216 - val_acc: 0.0020\n",
      "Epoch 35/100\n",
      "13450/13450 [==============================] - 1s 42us/step - loss: 0.0085 - acc: 0.0054 - val_loss: 0.0222 - val_acc: 0.0027\n",
      "Epoch 36/100\n",
      "13450/13450 [==============================] - 1s 42us/step - loss: 0.0083 - acc: 0.0054 - val_loss: 0.0214 - val_acc: 0.0013\n",
      "Epoch 37/100\n",
      "13450/13450 [==============================] - 1s 41us/step - loss: 0.0082 - acc: 0.0054 - val_loss: 0.0222 - val_acc: 0.0013\n",
      "Epoch 38/100\n"
     ]
    },
    {
     "name": "stdout",
     "output_type": "stream",
     "text": [
      "13450/13450 [==============================] - 1s 40us/step - loss: 0.0081 - acc: 0.0054 - val_loss: 0.0236 - val_acc: 6.6890e-04\n",
      "Epoch 39/100\n",
      "13450/13450 [==============================] - 1s 37us/step - loss: 0.0079 - acc: 0.0054 - val_loss: 0.0229 - val_acc: 0.0013\n",
      "Epoch 40/100\n",
      "13450/13450 [==============================] - 1s 40us/step - loss: 0.0077 - acc: 0.0054 - val_loss: 0.0228 - val_acc: 6.6890e-04\n",
      "Epoch 41/100\n",
      "13450/13450 [==============================] - 1s 39us/step - loss: 0.0076 - acc: 0.0054 - val_loss: 0.0214 - val_acc: 0.0013\n",
      "Epoch 42/100\n",
      "13450/13450 [==============================] - 1s 37us/step - loss: 0.0075 - acc: 0.0054 - val_loss: 0.0221 - val_acc: 0.0013\n",
      "Epoch 43/100\n",
      "13450/13450 [==============================] - 1s 39us/step - loss: 0.0073 - acc: 0.0054 - val_loss: 0.0230 - val_acc: 0.0020\n",
      "Epoch 44/100\n",
      "13450/13450 [==============================] - 1s 40us/step - loss: 0.0072 - acc: 0.0054 - val_loss: 0.0245 - val_acc: 0.0013\n",
      "Epoch 45/100\n",
      "13450/13450 [==============================] - 1s 40us/step - loss: 0.0070 - acc: 0.0054 - val_loss: 0.0221 - val_acc: 0.0020\n",
      "Epoch 46/100\n",
      "13450/13450 [==============================] - 1s 41us/step - loss: 0.0068 - acc: 0.0054 - val_loss: 0.0238 - val_acc: 0.0013\n",
      "Epoch 47/100\n",
      "13450/13450 [==============================] - 1s 41us/step - loss: 0.0067 - acc: 0.0054 - val_loss: 0.0237 - val_acc: 0.0013\n",
      "Epoch 48/100\n",
      "13450/13450 [==============================] - 1s 41us/step - loss: 0.0067 - acc: 0.0054 - val_loss: 0.0230 - val_acc: 0.0013\n",
      "Epoch 49/100\n",
      "13450/13450 [==============================] - 1s 40us/step - loss: 0.0065 - acc: 0.0054 - val_loss: 0.0243 - val_acc: 6.6890e-04\n",
      "Epoch 50/100\n",
      "13450/13450 [==============================] - 1s 39us/step - loss: 0.0064 - acc: 0.0054 - val_loss: 0.0235 - val_acc: 0.0020\n",
      "Epoch 51/100\n",
      "13450/13450 [==============================] - 1s 37us/step - loss: 0.0061 - acc: 0.0054 - val_loss: 0.0234 - val_acc: 0.0020\n",
      "Epoch 52/100\n",
      "13450/13450 [==============================] - 0s 37us/step - loss: 0.0062 - acc: 0.0054 - val_loss: 0.0247 - val_acc: 0.0020\n",
      "Epoch 53/100\n",
      "13450/13450 [==============================] - 1s 38us/step - loss: 0.0059 - acc: 0.0054 - val_loss: 0.0251 - val_acc: 0.0020\n",
      "Epoch 54/100\n",
      "13450/13450 [==============================] - 1s 38us/step - loss: 0.0059 - acc: 0.0054 - val_loss: 0.0242 - val_acc: 6.6890e-04\n",
      "Epoch 55/100\n",
      "13450/13450 [==============================] - 1s 40us/step - loss: 0.0057 - acc: 0.0054 - val_loss: 0.0251 - val_acc: 6.6890e-04\n",
      "Epoch 56/100\n",
      "13450/13450 [==============================] - 1s 41us/step - loss: 0.0057 - acc: 0.0054 - val_loss: 0.0256 - val_acc: 0.0013\n",
      "Epoch 57/100\n",
      "13450/13450 [==============================] - 1s 40us/step - loss: 0.0056 - acc: 0.0054 - val_loss: 0.0246 - val_acc: 0.0013\n",
      "Epoch 58/100\n",
      "13450/13450 [==============================] - 1s 40us/step - loss: 0.0053 - acc: 0.0054 - val_loss: 0.0254 - val_acc: 0.0020\n",
      "Epoch 59/100\n",
      "13450/13450 [==============================] - 1s 40us/step - loss: 0.0053 - acc: 0.0054 - val_loss: 0.0247 - val_acc: 0.0020\n",
      "Epoch 60/100\n",
      "13450/13450 [==============================] - 1s 40us/step - loss: 0.0053 - acc: 0.0054 - val_loss: 0.0256 - val_acc: 0.0013\n",
      "Epoch 61/100\n",
      "13450/13450 [==============================] - 1s 39us/step - loss: 0.0051 - acc: 0.0054 - val_loss: 0.0253 - val_acc: 0.0013\n",
      "Epoch 62/100\n",
      "13450/13450 [==============================] - 1s 40us/step - loss: 0.0049 - acc: 0.0054 - val_loss: 0.0274 - val_acc: 0.0013\n",
      "Epoch 63/100\n",
      "13450/13450 [==============================] - 1s 42us/step - loss: 0.0049 - acc: 0.0054 - val_loss: 0.0241 - val_acc: 0.0020\n",
      "Epoch 64/100\n",
      "13450/13450 [==============================] - 1s 44us/step - loss: 0.0049 - acc: 0.0054 - val_loss: 0.0261 - val_acc: 0.0013\n",
      "Epoch 65/100\n",
      "13450/13450 [==============================] - 1s 45us/step - loss: 0.0046 - acc: 0.0054 - val_loss: 0.0259 - val_acc: 0.0013\n",
      "Epoch 66/100\n",
      "13450/13450 [==============================] - 1s 39us/step - loss: 0.0045 - acc: 0.0054 - val_loss: 0.0271 - val_acc: 0.0013\n",
      "Epoch 67/100\n",
      "13450/13450 [==============================] - 1s 38us/step - loss: 0.0045 - acc: 0.0054 - val_loss: 0.0258 - val_acc: 0.0013\n",
      "Epoch 68/100\n",
      "13450/13450 [==============================] - 1s 40us/step - loss: 0.0045 - acc: 0.0054 - val_loss: 0.0270 - val_acc: 0.0020\n",
      "Epoch 69/100\n",
      "13450/13450 [==============================] - 1s 38us/step - loss: 0.0043 - acc: 0.0054 - val_loss: 0.0262 - val_acc: 0.0020\n",
      "Epoch 70/100\n",
      "13450/13450 [==============================] - 1s 38us/step - loss: 0.0042 - acc: 0.0054 - val_loss: 0.0270 - val_acc: 0.0013\n",
      "Epoch 71/100\n",
      "13450/13450 [==============================] - 1s 40us/step - loss: 0.0043 - acc: 0.0054 - val_loss: 0.0254 - val_acc: 0.0020\n",
      "Epoch 72/100\n",
      "13450/13450 [==============================] - 1s 38us/step - loss: 0.0042 - acc: 0.0054 - val_loss: 0.0274 - val_acc: 0.0020\n",
      "Epoch 73/100\n",
      "13450/13450 [==============================] - 1s 37us/step - loss: 0.0041 - acc: 0.0054 - val_loss: 0.0259 - val_acc: 0.0013\n",
      "Epoch 74/100\n",
      "13450/13450 [==============================] - 1s 37us/step - loss: 0.0039 - acc: 0.0054 - val_loss: 0.0271 - val_acc: 0.0020\n",
      "Epoch 75/100\n",
      "13450/13450 [==============================] - 1s 38us/step - loss: 0.0038 - acc: 0.0054 - val_loss: 0.0272 - val_acc: 6.6890e-04\n",
      "Epoch 76/100\n",
      "13450/13450 [==============================] - 1s 39us/step - loss: 0.0038 - acc: 0.0054 - val_loss: 0.0264 - val_acc: 0.0020\n",
      "Epoch 77/100\n",
      "13450/13450 [==============================] - 1s 38us/step - loss: 0.0039 - acc: 0.0054 - val_loss: 0.0255 - val_acc: 0.0020\n",
      "Epoch 78/100\n",
      "13450/13450 [==============================] - 1s 38us/step - loss: 0.0037 - acc: 0.0054 - val_loss: 0.0264 - val_acc: 0.0020\n",
      "Epoch 79/100\n",
      "13450/13450 [==============================] - 1s 38us/step - loss: 0.0037 - acc: 0.0054 - val_loss: 0.0261 - val_acc: 0.0020\n",
      "Epoch 80/100\n",
      "13450/13450 [==============================] - 1s 38us/step - loss: 0.0036 - acc: 0.0054 - val_loss: 0.0277 - val_acc: 0.0013\n",
      "Epoch 81/100\n",
      "13450/13450 [==============================] - 1s 41us/step - loss: 0.0035 - acc: 0.0054 - val_loss: 0.0270 - val_acc: 0.0020\n",
      "Epoch 82/100\n",
      "13450/13450 [==============================] - 1s 42us/step - loss: 0.0035 - acc: 0.0054 - val_loss: 0.0263 - val_acc: 0.0020\n",
      "Epoch 83/100\n",
      "13450/13450 [==============================] - 1s 42us/step - loss: 0.0034 - acc: 0.0054 - val_loss: 0.0264 - val_acc: 0.0020\n",
      "Epoch 84/100\n",
      "13450/13450 [==============================] - 1s 41us/step - loss: 0.0034 - acc: 0.0054 - val_loss: 0.0258 - val_acc: 0.0020\n",
      "Epoch 85/100\n",
      "13450/13450 [==============================] - 1s 40us/step - loss: 0.0033 - acc: 0.0054 - val_loss: 0.0276 - val_acc: 0.0013\n",
      "Epoch 86/100\n",
      "13450/13450 [==============================] - 1s 42us/step - loss: 0.0032 - acc: 0.0054 - val_loss: 0.0263 - val_acc: 0.0020\n",
      "Epoch 87/100\n",
      "13450/13450 [==============================] - 1s 38us/step - loss: 0.0031 - acc: 0.0054 - val_loss: 0.0267 - val_acc: 0.0020\n",
      "Epoch 88/100\n",
      "13450/13450 [==============================] - 1s 42us/step - loss: 0.0032 - acc: 0.0054 - val_loss: 0.0268 - val_acc: 0.0020\n",
      "Epoch 89/100\n",
      "13450/13450 [==============================] - 1s 41us/step - loss: 0.0032 - acc: 0.0054 - val_loss: 0.0259 - val_acc: 0.0020\n",
      "Epoch 90/100\n",
      "13450/13450 [==============================] - 1s 40us/step - loss: 0.0030 - acc: 0.0054 - val_loss: 0.0266 - val_acc: 0.0020\n",
      "Epoch 91/100\n",
      "13450/13450 [==============================] - 1s 40us/step - loss: 0.0030 - acc: 0.0054 - val_loss: 0.0274 - val_acc: 0.0020\n",
      "Epoch 92/100\n",
      "13450/13450 [==============================] - 1s 41us/step - loss: 0.0030 - acc: 0.0054 - val_loss: 0.0267 - val_acc: 0.0027\n",
      "Epoch 93/100\n",
      "13450/13450 [==============================] - 1s 40us/step - loss: 0.0029 - acc: 0.0054 - val_loss: 0.0275 - val_acc: 0.0020\n",
      "Epoch 94/100\n",
      "13450/13450 [==============================] - 1s 41us/step - loss: 0.0028 - acc: 0.0054 - val_loss: 0.0267 - val_acc: 0.0020\n",
      "Epoch 95/100\n",
      "13450/13450 [==============================] - 1s 40us/step - loss: 0.0028 - acc: 0.0054 - val_loss: 0.0266 - val_acc: 0.0020\n",
      "Epoch 96/100\n",
      "13450/13450 [==============================] - 1s 38us/step - loss: 0.0028 - acc: 0.0054 - val_loss: 0.0272 - val_acc: 0.0020\n"
     ]
    },
    {
     "name": "stdout",
     "output_type": "stream",
     "text": [
      "Epoch 97/100\n",
      "13450/13450 [==============================] - 1s 40us/step - loss: 0.0028 - acc: 0.0054 - val_loss: 0.0263 - val_acc: 0.0020\n",
      "Epoch 98/100\n",
      "13450/13450 [==============================] - 0s 37us/step - loss: 0.0027 - acc: 0.0054 - val_loss: 0.0272 - val_acc: 0.0020\n",
      "Epoch 99/100\n",
      "13450/13450 [==============================] - 1s 40us/step - loss: 0.0027 - acc: 0.0054 - val_loss: 0.0270 - val_acc: 0.0013\n",
      "Epoch 100/100\n",
      "13450/13450 [==============================] - 1s 38us/step - loss: 0.0027 - acc: 0.0054 - val_loss: 0.0260 - val_acc: 0.0020\n"
     ]
    }
   ],
   "source": [
    "model = None\n",
    "model = build_model()\n",
    "history = model.fit([train_pitcher, train_batter],\n",
    "          train_labels,\n",
    "         validation_data=([test_pitcher, test_batter], test_labels),\n",
    "          epochs=100,\n",
    "          batch_size=32\n",
    "         )"
   ]
  },
  {
   "cell_type": "code",
   "execution_count": 343,
   "metadata": {},
   "outputs": [],
   "source": [
    "preds = model.predict([test_pitcher, test_batter])"
   ]
  },
  {
   "cell_type": "code",
   "execution_count": 344,
   "metadata": {},
   "outputs": [
    {
     "data": {
      "text/plain": [
       "array([0.55220854, 0.3218457 , 0.33141193, 0.33235413, 0.33718342,\n",
       "       0.3272677 , 0.213367  , 0.22204569, 0.25352243, 0.33906928,\n",
       "       0.45192206, 0.13417628, 0.48530632, 0.11167203, 0.3653856 ,\n",
       "       0.32060146, 0.12423144, 0.28989902, 0.22881377, 0.5126    ],\n",
       "      dtype=float32)"
      ]
     },
     "execution_count": 344,
     "metadata": {},
     "output_type": "execute_result"
    }
   ],
   "source": [
    "np.squeeze(preds[:20])"
   ]
  },
  {
   "cell_type": "code",
   "execution_count": 345,
   "metadata": {},
   "outputs": [
    {
     "data": {
      "text/plain": [
       "array([0.41176471, 0.42105263, 0.29411765, 0.25      , 0.42857143,\n",
       "       0.28571429, 0.5       , 0.31578947, 0.25490196, 0.53846154,\n",
       "       0.42424242, 0.4375    , 0.2       , 0.46428571, 0.27272727,\n",
       "       0.34782609, 0.21428571, 0.27272727, 0.24390244, 0.3125    ])"
      ]
     },
     "execution_count": 345,
     "metadata": {},
     "output_type": "execute_result"
    }
   ],
   "source": [
    "test_labels.to_numpy()[:20]"
   ]
  },
  {
   "cell_type": "code",
   "execution_count": null,
   "metadata": {},
   "outputs": [],
   "source": []
  }
 ],
 "metadata": {
  "kernelspec": {
   "display_name": "Python 3",
   "language": "python",
   "name": "python3"
  },
  "language_info": {
   "codemirror_mode": {
    "name": "ipython",
    "version": 3
   },
   "file_extension": ".py",
   "mimetype": "text/x-python",
   "name": "python",
   "nbconvert_exporter": "python",
   "pygments_lexer": "ipython3",
   "version": "3.7.3"
  }
 },
 "nbformat": 4,
 "nbformat_minor": 2
}
